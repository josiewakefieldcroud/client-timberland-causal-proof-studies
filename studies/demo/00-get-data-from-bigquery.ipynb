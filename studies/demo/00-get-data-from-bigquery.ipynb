{
 "cells": [
  {
   "cell_type": "markdown",
   "metadata": {},
   "source": [
    "# Get data from BigQuery\n",
    "\n",
    "A template to read data from BigQuery and save them in [data](data)."
   ]
  },
  {
   "cell_type": "code",
   "execution_count": 1,
   "metadata": {},
   "outputs": [],
   "source": [
    "%load_ext autoreload\n",
    "%autoreload 2"
   ]
  },
  {
   "cell_type": "code",
   "execution_count": 2,
   "metadata": {},
   "outputs": [
    {
     "name": "stdout",
     "output_type": "stream",
     "text": [
      "[DEBUG] All available queries are: dict_keys(['demo-query', 'test'])\n",
      "Importing the dtw module. When using in academic works please cite:\n",
      "  T. Giorgino. Computing and Visualizing Dynamic Time Warping Alignments in R: The dtw Package.\n",
      "  J. Stat. Soft., doi:10.18637/jss.v031.i07.\n",
      "\n"
     ]
    }
   ],
   "source": [
    "import sys, os, pathlib\n",
    "import google.cloud.bigquery as bigquery\n",
    "import pandas as pd\n",
    "\n",
    "sys.path.append('..')\n",
    "import queries.common as qc \n",
    "\n",
    "import causalinf"
   ]
  },
  {
   "cell_type": "code",
   "execution_count": 3,
   "metadata": {},
   "outputs": [],
   "source": [
    "UPDATE_DATA = True\n",
    "res_folder = pathlib.Path('res').resolve()\n",
    "\n",
    "PROJECT_ID = 'prj-croud-dev-dst-sandbox'\n",
    "client = bigquery.Client(project=PROJECT_ID)"
   ]
  },
  {
   "cell_type": "markdown",
   "metadata": {},
   "source": [
    "## Queries\n",
    "\n",
    "Queries can be stored in `queries` folder and loaded/rendered as in this example:"
   ]
  },
  {
   "cell_type": "code",
   "execution_count": 4,
   "metadata": {},
   "outputs": [
    {
     "name": "stdout",
     "output_type": "stream",
     "text": [
      "SELECT * \n",
      "FROM `prj-croud-dev-dst-sandbox.tentacles.winston_log` \n",
      "LIMIT 4;\n"
     ]
    }
   ],
   "source": [
    "print(\n",
    "    causalinf.bq.common.render_model(\n",
    "        qc.queries['test'],\n",
    "        {'n_rows': 4}\n",
    "    )\n",
    ")"
   ]
  },
  {
   "cell_type": "markdown",
   "metadata": {},
   "source": [
    "Once the query is rendered, use `client` to access BigQuery:"
   ]
  },
  {
   "cell_type": "code",
   "execution_count": 5,
   "metadata": {},
   "outputs": [],
   "source": [
    "if UPDATE_DATA:\n",
    "    df = client.query(\n",
    "        causalinf.bq.common.render_model(\n",
    "            qc.queries['test'],\n",
    "            {'n_rows': 4}\n",
    "        )\n",
    "    ).to_dataframe()\n",
    "    df.to_csv(res_folder/'test-data.csv', index=False)\n",
    "else:\n",
    "    df = pd.read_csv(res_folder/'test-data.csv')"
   ]
  },
  {
   "cell_type": "code",
   "execution_count": 6,
   "metadata": {},
   "outputs": [
    {
     "data": {
      "text/html": [
       "<div>\n",
       "<style scoped>\n",
       "    .dataframe tbody tr th:only-of-type {\n",
       "        vertical-align: middle;\n",
       "    }\n",
       "\n",
       "    .dataframe tbody tr th {\n",
       "        vertical-align: top;\n",
       "    }\n",
       "\n",
       "    .dataframe thead th {\n",
       "        text-align: right;\n",
       "    }\n",
       "</style>\n",
       "<table border=\"1\" class=\"dataframe\">\n",
       "  <thead>\n",
       "    <tr style=\"text-align: right;\">\n",
       "      <th></th>\n",
       "      <th>logName</th>\n",
       "      <th>resource</th>\n",
       "      <th>textPayload</th>\n",
       "      <th>jsonPayload</th>\n",
       "      <th>timestamp</th>\n",
       "      <th>receiveTimestamp</th>\n",
       "      <th>severity</th>\n",
       "      <th>insertId</th>\n",
       "      <th>httpRequest</th>\n",
       "      <th>operation</th>\n",
       "      <th>trace</th>\n",
       "      <th>spanId</th>\n",
       "      <th>traceSampled</th>\n",
       "      <th>sourceLocation</th>\n",
       "      <th>split</th>\n",
       "    </tr>\n",
       "  </thead>\n",
       "  <tbody>\n",
       "    <tr>\n",
       "      <th>0</th>\n",
       "      <td>projects/prj-croud-dev-dst-sandbox/logs/winsto...</td>\n",
       "      <td>{'type': 'global', 'labels': {'project_id': 'p...</td>\n",
       "      <td>None</td>\n",
       "      <td>{'message': '[TentaclesFile]'}</td>\n",
       "      <td>2023-05-26 10:27:50.997344+00:00</td>\n",
       "      <td>2023-05-26 10:27:50.997344+00:00</td>\n",
       "      <td>INFO</td>\n",
       "      <td>1j862egf4umxwa</td>\n",
       "      <td>None</td>\n",
       "      <td>None</td>\n",
       "      <td>None</td>\n",
       "      <td>None</td>\n",
       "      <td>&lt;NA&gt;</td>\n",
       "      <td>None</td>\n",
       "      <td>None</td>\n",
       "    </tr>\n",
       "  </tbody>\n",
       "</table>\n",
       "</div>"
      ],
      "text/plain": [
       "                                             logName  \\\n",
       "0  projects/prj-croud-dev-dst-sandbox/logs/winsto...   \n",
       "\n",
       "                                            resource textPayload  \\\n",
       "0  {'type': 'global', 'labels': {'project_id': 'p...        None   \n",
       "\n",
       "                      jsonPayload                        timestamp  \\\n",
       "0  {'message': '[TentaclesFile]'} 2023-05-26 10:27:50.997344+00:00   \n",
       "\n",
       "                  receiveTimestamp severity        insertId httpRequest  \\\n",
       "0 2023-05-26 10:27:50.997344+00:00     INFO  1j862egf4umxwa        None   \n",
       "\n",
       "  operation trace spanId  traceSampled sourceLocation split  \n",
       "0      None  None   None          <NA>           None  None  "
      ]
     },
     "execution_count": 6,
     "metadata": {},
     "output_type": "execute_result"
    }
   ],
   "source": [
    "df.head()"
   ]
  }
 ],
 "metadata": {
  "kernelspec": {
   "display_name": ".venv",
   "language": "python",
   "name": "python3"
  },
  "language_info": {
   "codemirror_mode": {
    "name": "ipython",
    "version": 3
   },
   "file_extension": ".py",
   "mimetype": "text/x-python",
   "name": "python",
   "nbconvert_exporter": "python",
   "pygments_lexer": "ipython3",
   "version": "3.10.12"
  }
 },
 "nbformat": 4,
 "nbformat_minor": 2
}
